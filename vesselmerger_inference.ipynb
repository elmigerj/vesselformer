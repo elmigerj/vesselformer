{
 "cells": [
  {
   "cell_type": "code",
   "execution_count": 1,
   "id": "2cf87990-5ea7-4787-a545-c58f638dfc59",
   "metadata": {
    "pycharm": {
     "name": "#%%\n"
    }
   },
   "outputs": [],
   "source": [
    "import os\n",
    "os.environ[\"CUDA_DEVICE_ORDER\"]=\"PCI_BUS_ID\"\n",
    "os.environ['CUDA_VISIBLE_DEVICES'] = \"1\"\n",
    "import torch\n",
    "import yaml\n",
    "from medpy.io import load, save\n",
    "import pyvista\n",
    "import json\n",
    "import numpy as np\n",
    "from models import build_model\n",
    "from inference import relation_infer\n",
    "from utils import patchify_voxel, patchify_graph, unpatchify_graph\n",
    "from multiprocessing import Pool\n",
    "from functools import partial\n",
    "import networkx as nx\n",
    "from skimage.measure import marching_cubes\n",
    "import open3d as o3d\n",
    "import itertools\n",
    "%load_ext autoreload\n",
    "%autoreload 2"
   ]
  },
  {
   "cell_type": "code",
   "execution_count": 2,
   "id": "b4af56d1",
   "metadata": {},
   "outputs": [],
   "source": [
    "def plot_test_sample(image, points, edges):\n",
    "    meshes = []\n",
    "    graphs = []\n",
    "    # image = image[:, 54:-54, 54:-54]\n",
    "    porder_points = [\n",
    "        [0, 0, 0],\n",
    "        [1, 0, 0],\n",
    "        [0, 1, 0],\n",
    "        [1, 1, 0],\n",
    "        [0, 0, 1],\n",
    "        [1, 0, 1],\n",
    "        [0, 1, 1],\n",
    "        [1, 1, 1],\n",
    "    ]\n",
    "    border_edges = [\n",
    "        [0, 1],\n",
    "        [0, 2],\n",
    "        [1, 3],\n",
    "        [2, 3],\n",
    "        [4, 5],\n",
    "        [4, 6],\n",
    "        [5, 7],\n",
    "        [6, 7],\n",
    "        [0, 4],\n",
    "        [1, 5],\n",
    "        [2, 6],\n",
    "        [3, 7],\n",
    "    ]\n",
    "\n",
    "    ref_color = [[1, 0, 0] for i in range(len(edges))]\n",
    "    ref_line_set = o3d.geometry.LineSet(\n",
    "        points=o3d.utility.Vector3dVector(points + np.array([0.6, 0, 0])),\n",
    "        lines=o3d.utility.Vector2iVector(edges)\n",
    "    )\n",
    "    ref_line_set.colors = o3d.utility.Vector3dVector(ref_color)\n",
    "    graphs.append(ref_line_set)\n",
    "    point_cloud = o3d.geometry.PointCloud()\n",
    "    point_cloud.points = o3d.utility.Vector3dVector(points + np.array([0.6, 0, 0]))\n",
    "    point_cloud.paint_uniform_color([0, 1, 0])\n",
    "    graphs.append(point_cloud)\n",
    "\n",
    "    ref_color = [[0.2, 0.2, 0.2] for i in range(len(border_edges))]\n",
    "    ref_line_set = o3d.geometry.LineSet(\n",
    "        points=o3d.utility.Vector3dVector(porder_points + np.array([0.6, 0, 0])),\n",
    "        lines=o3d.utility.Vector2iVector(border_edges),\n",
    "    )\n",
    "    ref_line_set.colors = o3d.utility.Vector3dVector(ref_color)\n",
    "    graphs.append(ref_line_set)\n",
    "\n",
    "    verts, faces, norms, vals = marching_cubes(image > 0.0, level=0, method='lewiner')\n",
    "    verts = verts / np.array(image.shape)\n",
    "\n",
    "    mesh = np.concatenate((faces[:, :2], faces[:, 1:]), axis=0)\n",
    "    adjucency = np.zeros((verts.shape[0], verts.shape[0]))\n",
    "\n",
    "    for e in mesh:\n",
    "        adjucency[e[0], e[1]] = 1.0\n",
    "        adjucency[e[1], e[0]] = 1.0\n",
    "\n",
    "    adjucency = np.triu(adjucency)\n",
    "    mesh = np.array(np.where(np.triu(adjucency) > 0)).T\n",
    "\n",
    "    pred_color = [[0, 0, 1] for i in range(len(mesh))]\n",
    "    pred_line_set = o3d.geometry.LineSet(\n",
    "        points=o3d.utility.Vector3dVector(verts - np.array([0.6, 0, 0])),\n",
    "        lines=o3d.utility.Vector2iVector(mesh),\n",
    "    )\n",
    "\n",
    "    pred_line_set.colors = o3d.utility.Vector3dVector(pred_color)\n",
    "    meshes.append(pred_line_set)\n",
    "\n",
    "    pred_color = [[0.2, 0.2, 0.2] for i in range(len(border_edges))]\n",
    "    pred_line_set = o3d.geometry.LineSet(\n",
    "        points=o3d.utility.Vector3dVector((porder_points - np.array([0.6, 0, 0]))),\n",
    "        lines=o3d.utility.Vector2iVector(border_edges),\n",
    "    )\n",
    "\n",
    "    pred_line_set.colors = o3d.utility.Vector3dVector(pred_color)\n",
    "    meshes.append(pred_line_set)\n",
    "    o3d.visualization.draw_geometries(meshes + graphs)"
   ]
  },
  {
   "cell_type": "code",
   "execution_count": 3,
   "id": "a97ce03e",
   "metadata": {},
   "outputs": [],
   "source": [
    "def plot_val_rel_sample(image, points1, edges1, points2, edges2, attn_map=None, relative_coords=True):\n",
    "    ref_line_sets = []\n",
    "    pred_line_sets = []\n",
    "    x_max, y_max, z_max = points1.max(0)\n",
    "    border_points = [\n",
    "        [0, 0, 0],\n",
    "        [x_max, 0, 0],\n",
    "        [0, y_max, 0],\n",
    "        [x_max, y_max, 0],\n",
    "        [0, 0, z_max],\n",
    "        [x_max, 0, z_max],\n",
    "        [0, y_max, z_max],\n",
    "        [x_max, y_max, z_max],\n",
    "    ]\n",
    "    border_edges = [\n",
    "        [0, 1],\n",
    "        [0, 2],\n",
    "        [1, 3],\n",
    "        [2, 3],\n",
    "        [4, 5],\n",
    "        [4, 6],\n",
    "        [5, 7],\n",
    "        [6, 7],\n",
    "        [0, 4],\n",
    "        [1, 5],\n",
    "        [2, 6],\n",
    "        [3, 7],\n",
    "    ]\n",
    "\n",
    "    ref_color = [[1, 0, 0] for i in range(len(edges1))]\n",
    "    ref_line_set = o3d.geometry.LineSet(\n",
    "        points=o3d.utility.Vector3dVector(points1),\n",
    "        lines=o3d.utility.Vector2iVector(edges1),\n",
    "    )\n",
    "    ref_line_set.colors = o3d.utility.Vector3dVector(ref_color)\n",
    "    ref_line_sets.append(ref_line_set)\n",
    "    point_cloud = o3d.geometry.PointCloud()\n",
    "    point_cloud.points = o3d.utility.Vector3dVector(points1)\n",
    "    point_cloud.paint_uniform_color([0, 1, 0])\n",
    "    ref_line_sets.append(point_cloud)\n",
    "\n",
    "    ref_color = [[0.2, 0.2, 0.2] for i in range(len(border_edges))]\n",
    "    ref_line_set = o3d.geometry.LineSet(\n",
    "        points=o3d.utility.Vector3dVector(border_points),\n",
    "        lines=o3d.utility.Vector2iVector(border_edges),\n",
    "    )\n",
    "    ref_line_set.colors = o3d.utility.Vector3dVector(ref_color)\n",
    "    ref_line_sets.append(ref_line_set)\n",
    "\n",
    "    ref_color = [[1, 0, 0] for i in range(len(edges2))]\n",
    "    ref_line_set = o3d.geometry.LineSet(\n",
    "        points=o3d.utility.Vector3dVector(points2 + np.array([points1.max(axis=0)[0]+10, 0, 0])),\n",
    "        lines=o3d.utility.Vector2iVector(edges2),\n",
    "    )\n",
    "    ref_line_set.colors = o3d.utility.Vector3dVector(ref_color)\n",
    "    ref_line_sets.append(ref_line_set)\n",
    "    point_cloud = o3d.geometry.PointCloud()\n",
    "    point_cloud.points = o3d.utility.Vector3dVector(points2 + np.array([points1.max(axis=0)[0]+10, 0, 0]))\n",
    "    point_cloud.paint_uniform_color([0, 1, 0])\n",
    "    ref_line_sets.append(point_cloud)\n",
    "\n",
    "    ref_color = [[0.2, 0.2, 0.2] for i in range(len(border_edges))]\n",
    "    ref_line_set = o3d.geometry.LineSet(\n",
    "        points=o3d.utility.Vector3dVector(border_points + np.array([points1.max(axis=0)[0]+10, 0, 0])),\n",
    "        lines=o3d.utility.Vector2iVector(border_edges),\n",
    "    )\n",
    "    ref_line_set.colors = o3d.utility.Vector3dVector(ref_color)\n",
    "    ref_line_sets.append(ref_line_set)\n",
    "\n",
    "    verts, faces, norms, vals = marching_cubes(image > 0.0, level=0, method='lewiner')\n",
    "    verts = verts  - np.array([points1.max(axis=0)[0]+10, 0, 0]) #/ np.array(image.shape)\n",
    "\n",
    "    mesh = o3d.geometry.TriangleMesh()\n",
    "    mesh.vertices = o3d.utility.Vector3dVector(verts)\n",
    "\n",
    "    mesh.triangles = o3d.utility.Vector3iVector(faces)\n",
    "\n",
    "    pred_color = [[0.2, 0.2, 0.2] for i in range(len(border_edges))]\n",
    "    pred_line_set = o3d.geometry.LineSet(\n",
    "        points=o3d.utility.Vector3dVector((border_points - np.array([points1.max(axis=0)[0]+10, 0, 0]))),\n",
    "        lines=o3d.utility.Vector2iVector(border_edges),\n",
    "    )\n",
    "\n",
    "    pred_line_set.colors = o3d.utility.Vector3dVector(pred_color)\n",
    "    pred_line_sets.append(pred_line_set)\n",
    "\n",
    "    o3d.visualization.draw_geometries(ref_line_sets + pred_line_sets + [mesh])"
   ]
  },
  {
   "cell_type": "code",
   "execution_count": 4,
   "id": "60d3de54-9df7-4a43-acca-15289de6c616",
   "metadata": {
    "pycharm": {
     "name": "#%%\n"
    }
   },
   "outputs": [],
   "source": [
    "class obj:\n",
    "    def __init__(self, dict1):\n",
    "        self.__dict__.update(dict1)\n",
    "        \n",
    "def dict2obj(dict1):\n",
    "    return json.loads(json.dumps(dict1), object_hook=obj)\n",
    "\n",
    "patch_size = (64, 64, 64)\n",
    "pad = (5, 5, 5)"
   ]
  },
  {
   "cell_type": "code",
   "execution_count": 5,
   "id": "da5d6b43-00bb-47fc-85b2-0d9230ba1e22",
   "metadata": {
    "pycharm": {
     "name": "#%%\n"
    }
   },
   "outputs": [],
   "source": [
    "config = \"configs/synth_3D.yaml\"\n",
    "model_ckpt =  'trained_weights/last_checkpoint.pt'"
   ]
  },
  {
   "attachments": {},
   "cell_type": "markdown",
   "id": "08206cad",
   "metadata": {},
   "source": [
    "### Load Config"
   ]
  },
  {
   "cell_type": "code",
   "execution_count": 6,
   "id": "557b49ad-41ae-43f1-9b3d-7c18d0c6a5ef",
   "metadata": {
    "pycharm": {
     "name": "#%%\n"
    }
   },
   "outputs": [
    {
     "name": "stdout",
     "output_type": "stream",
     "text": [
      "\n",
      "*** Config file\n",
      "configs/synth_3D.yaml\n",
      "synth_data_vesselformer\n"
     ]
    }
   ],
   "source": [
    "with open(config) as f:\n",
    "    print('\\n*** Config file')\n",
    "    print(config)\n",
    "    config = yaml.load(f, Loader=yaml.FullLoader)\n",
    "    print(config['log']['exp_name'])\n",
    "config = dict2obj(config)\n",
    "device = torch.device(\"cuda\")"
   ]
  },
  {
   "attachments": {},
   "cell_type": "markdown",
   "id": "acde6313",
   "metadata": {},
   "source": [
    "### Load Model"
   ]
  },
  {
   "cell_type": "code",
   "execution_count": 7,
   "id": "4295aeaf-e176-42c4-b5f0-11c6ee1486e6",
   "metadata": {
    "pycharm": {
     "name": "#%%\n"
    }
   },
   "outputs": [],
   "source": [
    "net = build_model(config).to(device)\n",
    "checkpoint = torch.load(model_ckpt, map_location='cpu')\n",
    "missing_keys, unexpected_keys = net.load_state_dict(checkpoint['net'])\n",
    "unexpected_keys = [k for k in unexpected_keys if not (k.endswith('total_params') or k.endswith('total_ops'))]\n",
    "if len(missing_keys) > 0:\n",
    "    print('Missing Keys: {}'.format(missing_keys))\n",
    "if len(unexpected_keys) > 0:\n",
    "    print('Unexpected Keys: {}'.format(unexpected_keys))"
   ]
  },
  {
   "attachments": {},
   "cell_type": "markdown",
   "id": "c2f20389",
   "metadata": {
    "pycharm": {
     "name": "#%% md\n"
    }
   },
   "source": [
    "### Patching operation"
   ]
  },
  {
   "cell_type": "code",
   "execution_count": 28,
   "id": "712cc775-2676-46b1-9dce-d013ec0dfa26",
   "metadata": {
    "pycharm": {
     "name": "#%%\n"
    }
   },
   "outputs": [],
   "source": [
    "image_data, _ = load('data/vessel_data/raw/47.nii.gz')\n",
    "seg_data, _ = load('data/vessel_data/seg/47.nii.gz')\n",
    "vtk_data = pyvista.read('data/vessel_data/vtk/47.vtk')\n",
    "shift = [np.shape(image_data)[0] / 2 - 1.8, np.shape(image_data)[1] / 2 + 8.3, 4.0]\n",
    "coordinates = np.float32(np.asarray(vtk_data.points / 3.0 + shift))\n",
    "\n",
    "vtk_data.points = coordinates\n",
    "vtk_data = vtk_data.clean().extract_surface()\n",
    "\n",
    "start_ = np.array([20,20,20])\n",
    "num_patch = [2,4,6]\n",
    "\n",
    "bounds = [start_[0], start_[0]+54*num_patch[0]-1, start_[1], start_[1]+ 54*num_patch[1]-1, start_[2], start_[2]+54*num_patch[2]-1]\n",
    "image_data = image_data[start_[0]:start_[0]+54*num_patch[0], start_[1]:start_[1]+54*num_patch[1], start_[2]:start_[2]+54*num_patch[2]]\n",
    "seg_data = seg_data[start_[0]:start_[0]+54*num_patch[0], start_[1]:start_[1]+54*num_patch[1], start_[2]:start_[2]+54*num_patch[2]]\n",
    "vtk_data = vtk_data.clip_box(bounds, invert=False).extract_surface().clean()\n",
    "\n",
    "coordinates = np.array(vtk_data.points) - start_\n",
    "vtk_data.points = coordinates\n",
    "edges = np.asarray(vtk_data.lines.reshape(vtk_data.n_cells, 3))[:,1:]\n",
    "\n",
    "_, _, _, _, merged_graph = patchify_graph(image_data, vtk_data, patch_size, pad)\n",
    "patch_list, start_ind, seq_ind, padded_shape = patchify_voxel(image_data, patch_size, pad)\n",
    "\n",
    "seg_patch_list, _, _, _ = patchify_voxel(seg_data, patch_size, pad)\n",
    "\n",
    "patches = np.float32(np.stack(patch_list))\n",
    "vmax = patches.max()*0.001\n",
    "patches = patches/vmax-0.5\n",
    "patches = torch.tensor(patches).cuda().contiguous().unsqueeze(1)\n",
    "\n",
    "segs = np.float32(np.stack(seg_patch_list))\n",
    "segs = torch.tensor(segs).cuda().contiguous().unsqueeze(1)\n"
   ]
  },
  {
   "attachments": {},
   "cell_type": "markdown",
   "id": "e4feb389",
   "metadata": {},
   "source": [
    "### Using the newly created points also in the reference points"
   ]
  },
  {
   "cell_type": "code",
   "execution_count": 29,
   "id": "4ebb0933",
   "metadata": {},
   "outputs": [],
   "source": [
    "coordinates = np.array(merged_graph.points)\n",
    "edges = np.asarray(merged_graph.lines.reshape(-1, 3))[:,1:]"
   ]
  },
  {
   "attachments": {},
   "cell_type": "markdown",
   "id": "2d816e69",
   "metadata": {},
   "source": [
    "### Do patch inference"
   ]
  },
  {
   "cell_type": "code",
   "execution_count": 30,
   "id": "458beb54",
   "metadata": {
    "pycharm": {
     "name": "#%%\n"
    }
   },
   "outputs": [],
   "source": [
    "patch_graphs = {'pred_nodes':[],'pred_rels':[],'pred_radius':[]}\n",
    "batch_size = 48\n",
    "net.eval()  # Put the CNN in evaluation mode\n",
    "for i in range(np.int(np.ceil(1.0 * patches.shape[0] / batch_size))):\n",
    "    images = patches[batch_size * i:i * batch_size+batch_size].contiguous()\n",
    "    seg = segs[batch_size * i:i * batch_size+batch_size].contiguous()\n",
    "    h, out = net(images)\n",
    "    out = relation_infer(h.detach(), out, net.relation_embed, net.radius_embed, config.MODEL.DECODER.OBJ_TOKEN, config.MODEL.DECODER.RLN_TOKEN, config.MODEL.DECODER.RAD_TOKEN)\n",
    "    \n",
    "    # quick visualization\n",
    "    # if (seg[0].squeeze().cpu().numpy()>0.0).sum():\n",
    "    #     plot_test_sample(seg[0].squeeze().cpu().numpy(), out['pred_nodes'][0], out['pred_rels'][0])\n",
    "\n",
    "    patch_graphs['pred_nodes'].extend(out['pred_nodes'])\n",
    "    patch_graphs['pred_rels'].extend(out['pred_rels'])\n",
    "    patch_graphs['pred_radius'].extend(out['pred_radius'])"
   ]
  },
  {
   "cell_type": "code",
   "execution_count": 31,
   "id": "45fac154",
   "metadata": {},
   "outputs": [
    {
     "name": "stdout",
     "output_type": "stream",
     "text": [
      "Unifying of patch\n"
     ]
    }
   ],
   "source": [
    "print(\"Unifying of patch\")\n",
    "occu_matrix, out = unpatchify_graph(patch_graphs, start_ind, seq_ind, pad, imsize=padded_shape)"
   ]
  },
  {
   "attachments": {},
   "cell_type": "markdown",
   "id": "5c5104d3",
   "metadata": {},
   "source": [
    "### Interim Visualization"
   ]
  },
  {
   "cell_type": "code",
   "execution_count": 13,
   "id": "64ca44ba",
   "metadata": {},
   "outputs": [],
   "source": [
    "# Having a quick visualization\n",
    "edges1 = np.array(out['pred_rels'])\n",
    "coord1 = np.array(out['pred_nodes'])\n",
    "plot_val_rel_sample(seg_data.squeeze(), coordinates, edges,\n",
    "                    coord1, edges1)"
   ]
  },
  {
   "attachments": {},
   "cell_type": "markdown",
   "id": "dfb26cf9",
   "metadata": {
    "pycharm": {
     "name": "#%% md\n"
    }
   },
   "source": [
    "### Function to find node to be merged"
   ]
  },
  {
   "cell_type": "code",
   "execution_count": 33,
   "id": "f60a9854",
   "metadata": {
    "pycharm": {
     "name": "#%%\n"
    }
   },
   "outputs": [],
   "source": [
    "def merge_nodes(item, occu_matrix):\n",
    "    merge_nodes_list = []\n",
    "    img1 = occu_matrix[item[0]].flatten()\n",
    "    img2 = occu_matrix[item[1]].flatten()\n",
    "    \n",
    "    intersect = img1*img2>0\n",
    "    img1p = img1[intersect]\n",
    "    img2p = img2[intersect]\n",
    "\n",
    "    all_pairs = [(aItem, bItem) for aItem, bItem in zip(img1p, img2p)]\n",
    "    all_pairs = list(set(all_pairs))\n",
    "    for id_pairs in all_pairs:\n",
    "        iou = np.sum((img1==id_pairs[0])*(img2==id_pairs[1]))/np.sum(((img1==id_pairs[0])+(img2==id_pairs[1]))>0)\n",
    "        # print(\"item:\", item, \"id_pairs:\",id_pairs,\"iou:\",iou)\n",
    "        if iou>0.4:\n",
    "            # print(\"Item:\", item, \"node_pairs:\", id_pairs, out[\"pred_nodes\"][int(id_pairs[0])-1], out[\"pred_nodes\"][int(id_pairs[1])-1])\n",
    "            merge_nodes_list.append(np.int32(np.array(id_pairs))-1)\n",
    "    return merge_nodes_list"
   ]
  },
  {
   "attachments": {},
   "cell_type": "markdown",
   "id": "03654bd9",
   "metadata": {
    "pycharm": {
     "name": "#%% md\n"
    }
   },
   "source": [
    "Construct the whole graph"
   ]
  },
  {
   "cell_type": "code",
   "execution_count": 34,
   "id": "b20e8c59",
   "metadata": {
    "pycharm": {
     "name": "#%%\n"
    }
   },
   "outputs": [],
   "source": [
    "Whole_G=nx.Graph()\n",
    "Whole_G.add_nodes_from(list(range(len(out['pred_nodes']))))\n",
    "Whole_G.add_edges_from(out['pred_rels'])\n",
    "loc_dict = {i: loc for i, loc in enumerate(out['pred_nodes'])}\n",
    "nx.set_node_attributes(Whole_G, loc_dict, \"position\")\n",
    "rad_dict = {tuple(i): rad for i, rad in zip(out['pred_rels'],out['pred_rads'])}\n",
    "nx.set_edge_attributes(Whole_G, rad_dict, \"radius\")"
   ]
  },
  {
   "attachments": {},
   "cell_type": "markdown",
   "id": "0f86e86e",
   "metadata": {
    "pycharm": {
     "name": "#%% md\n"
    }
   },
   "source": [
    "Find nodes to be merged"
   ]
  },
  {
   "cell_type": "code",
   "execution_count": 35,
   "id": "3b805e97-81af-4759-86a3-d41c5d239ae6",
   "metadata": {
    "pycharm": {
     "name": "#%%\n"
    },
    "scrolled": true,
    "tags": []
   },
   "outputs": [],
   "source": [
    "merge_nodes_results = []\n",
    "all_pairs = list(itertools.combinations(range(8), 2))\n",
    "with Pool(processes=6) as pool:\n",
    "    merge_nodes_results = pool.map(partial(merge_nodes, occu_matrix=occu_matrix), all_pairs)\n",
    "merge_nodes_list = [item for sublist in merge_nodes_results for item in sublist]"
   ]
  },
  {
   "attachments": {},
   "cell_type": "markdown",
   "id": "e993bc54",
   "metadata": {
    "pycharm": {
     "name": "#%% md\n"
    }
   },
   "source": [
    "Create graph from mergable nodes"
   ]
  },
  {
   "cell_type": "code",
   "execution_count": 36,
   "id": "dbafbb1e-918b-4163-9178-b4d4f41b6992",
   "metadata": {
    "pycharm": {
     "name": "#%%\n"
    }
   },
   "outputs": [],
   "source": [
    "merge_G=nx.from_edgelist(np.array(merge_nodes_list))\n",
    "sub_graphs = [merge_G.subgraph(c) for c in nx.connected_components(merge_G)]"
   ]
  },
  {
   "attachments": {},
   "cell_type": "markdown",
   "id": "7cec7039",
   "metadata": {
    "pycharm": {
     "name": "#%% md\n"
    }
   },
   "source": [
    "remove redundant nodes"
   ]
  },
  {
   "cell_type": "code",
   "execution_count": 37,
   "id": "269fe403",
   "metadata": {
    "collapsed": false,
    "pycharm": {
     "name": "#%%\n"
    }
   },
   "outputs": [],
   "source": [
    "new_node_idx = len(out['pred_nodes'])\n",
    "for sub_g in sub_graphs:\n",
    "    new_node_pos = np.array([Whole_G.nodes[node_][\"position\"] for node_ in sub_g.nodes()]).mean(0)\n",
    "\n",
    "    # add new node\n",
    "    Whole_G.add_node(new_node_idx)\n",
    "    nx.set_node_attributes(Whole_G, {new_node_idx:new_node_pos}, \"position\")\n",
    "    # print(new_node_pos)\n",
    "    for node_ in sub_g.nodes():\n",
    "        neighbors = Whole_G.neighbors(node_)\n",
    "        remove_list = []\n",
    "        for n1 in neighbors:\n",
    "            radius_ = Whole_G.edges[(n1, node_)][\"radius\"] #nx.get_edge_attributes(Whole_G, edge_)\n",
    "            remove_list.append([node_, n1])\n",
    "            Whole_G.add_edge(n1, new_node_idx, radius=radius_)\n",
    "            # nx.set_edge_attributes(Whole_G, rad_dict, \"radius\")\n",
    "\n",
    "        # remove old nodes\n",
    "        Whole_G.remove_node(node_)\n",
    "        Whole_G.remove_edges_from(remove_list)\n",
    "    new_node_idx += 1"
   ]
  },
  {
   "cell_type": "code",
   "execution_count": 38,
   "id": "d09ef7d7",
   "metadata": {
    "collapsed": false,
    "pycharm": {
     "name": "#%%\n"
    }
   },
   "outputs": [],
   "source": [
    "pred_node = {node_:i for i, node_ in enumerate(Whole_G.nodes())}\n",
    "pred_coord = np.array([Whole_G.nodes[node_][\"position\"] for node_ in Whole_G.nodes()])\n",
    "pred_edges = np.array(Whole_G.edges())\n",
    "e1 = [pred_node[x] for x in pred_edges[:, 0]]\n",
    "e2 = [pred_node[x] for x in pred_edges[:, 1]]\n",
    "pred_edges = np.array([[e1_,e2_] for e1_, e2_ in zip(e1,e2)])\n",
    "pred_radius = np.array([Whole_G.edges[edge_][\"radius\"] for edge_ in Whole_G.edges()])"
   ]
  },
  {
   "attachments": {},
   "cell_type": "markdown",
   "id": "ca20dbdd",
   "metadata": {},
   "source": [
    "### Visualization"
   ]
  },
  {
   "cell_type": "code",
   "execution_count": 39,
   "id": "ecc66a59",
   "metadata": {},
   "outputs": [],
   "source": [
    "plot_val_rel_sample(seg_data.squeeze(), coordinates, edges,\n",
    "                    pred_coord, pred_edges)"
   ]
  }
 ],
 "metadata": {
  "kernelspec": {
   "display_name": "deepro",
   "language": "python",
   "name": "python3"
  },
  "language_info": {
   "codemirror_mode": {
    "name": "ipython",
    "version": 3
   },
   "file_extension": ".py",
   "mimetype": "text/x-python",
   "name": "python",
   "nbconvert_exporter": "python",
   "pygments_lexer": "ipython3",
   "version": "3.6.9"
  },
  "vscode": {
   "interpreter": {
    "hash": "0a65b42259c001818d23a7dae5036e8364bfc846daa533e50e38f7a76759b9bb"
   }
  }
 },
 "nbformat": 4,
 "nbformat_minor": 5
}
